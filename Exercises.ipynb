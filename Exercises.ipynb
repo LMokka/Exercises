{
 "cells": [
  {
   "cell_type": "markdown",
   "metadata": {},
   "source": [
    "#### Exercise 1 - Class Inheritance"
   ]
  },
  {
   "cell_type": "markdown",
   "metadata": {},
   "source": [
    "Create an Employee class that sets an employee's first name, last name, job title, salary, and email. The Employee class should have a class attribute for the raise amount set to 5% (1.05). Create a method that will apply the raise to an employee's salary."
   ]
  },
  {
   "cell_type": "code",
   "execution_count": 8,
   "metadata": {},
   "outputs": [],
   "source": [
    "class Employee():\n",
    "    raise_amount = 1.05\n",
    "    \n",
    "    def __init__(self, first, last, jtitle, salary, email):\n",
    "        self.first = first.title()\n",
    "        self.last = last.title()\n",
    "        self.jtitle = jtitle.title()\n",
    "        self.salary = salary\n",
    "        self.email = email\n",
    "        #self.email = first.lower() + \".\" + last.lower() + \"@company.org\"\n",
    "    \n",
    "    def apply_raise(self):\n",
    "        self.salary = int(self.salary*self.raise_amount)\n",
    "        print(f'{self.first}\\'s new salary is {self.salary}')"
   ]
  },
  {
   "cell_type": "markdown",
   "metadata": {},
   "source": [
    "Create two more classes that inherit from the Employee class. One for Sales and one for Development. Both of these classes will have the same attributes as the Employee.<br>\n",
    "- For the Sales employees, add a phone number attribute on instantiation using the super method. \n",
    "- Create a method on the Sales class that will Send a Follow Up Email. It should take in a customer name and \"send\" aka print a formatted email \"Dear *customer*, Thank you for your interest in our product. Please let me know if you have any questions. My email is *email* or my phone number is *phone number*. Thanks, *full name*\"\n",
    "- Create a method on the Development class called code that will print out \"*full name* is writing code\"."
   ]
  },
  {
   "cell_type": "code",
   "execution_count": 10,
   "metadata": {},
   "outputs": [
    {
     "name": "stdout",
     "output_type": "stream",
     "text": [
      "\n",
      "Dear Hannah Stern, Thank you for your interest in our product.  Please let me know if you have any questions. My email is Ta@codingtemple.com or my phone number is 2245768888.  Thanks Tatyana Banks\n",
      "\n",
      "Dear Mike O'Neil, Thank you for your interest in our product.  Please let me know if you have any questions. My email is Ta@codingtemple.com or my phone number is 2245768888.  Thanks Tatyana Banks\n",
      "\n",
      "Tatyana's new salary is 52500\n"
     ]
    }
   ],
   "source": [
    "#Need to create two child classes from the Employee class\n",
    "\n",
    "class Sales(Employee):\n",
    "    def __init__(self, first, last, jtitle, salary, email, phonenumber):\n",
    "        self.phonenumber = phonenumber\n",
    "        super().__init__(first,last,jtitle,salary,email)\n",
    "\n",
    "    def send_mail(self, customername):\n",
    "        self.customername = customername\n",
    "        print(f'Dear {self.customername}, Thank you for your interest in our product.  Please let me know if you have any questions. My email is {self.email} or my phone number is {self.phonenumber}.  Thanks {self.first} {self.last}')\n",
    "        #How can I get code to wrap around\n",
    "        \n",
    "class Development(Employee):\n",
    "    pass\n",
    "\n",
    "emp1 = Sales('Tatyana','Banks', 'Instructor', 50000, 'Ta@codingtemple.com','2245768888')\n",
    "print()\n",
    "emp1.send_mail(f'Hannah Stern')\n",
    "print()\n",
    "emp1.send_mail(f'Mike O\\'Neil')\n",
    "print()\n",
    "emp1.apply_raise()\n"
   ]
  },
  {
   "cell_type": "markdown",
   "metadata": {},
   "source": [
    "- Create an instance of a Sales Employee with a salary of $50,000.\n",
    "- Send follow up emails to \"Mike O'Neil\" and \"Hannah Stern\"\n",
    "- Give the employee a raise and print the salary"
   ]
  },
  {
   "cell_type": "code",
   "execution_count": null,
   "metadata": {},
   "outputs": [],
   "source": [
    "help(Sales)"
   ]
  },
  {
   "cell_type": "markdown",
   "metadata": {},
   "source": [
    "- Create an instance of a Development Employee with a salary of $100,000\n",
    "- Write some code with this employee\n",
    "- Give the employee a raise and print the salary"
   ]
  },
  {
   "cell_type": "code",
   "execution_count": null,
   "metadata": {},
   "outputs": [],
   "source": []
  },
  {
   "cell_type": "markdown",
   "metadata": {},
   "source": [
    "#### Exercise 2 - Importing Modules"
   ]
  },
  {
   "cell_type": "markdown",
   "metadata": {},
   "source": [
    "In VS Code, create a module titled `geometry` and add two functions in there. One that will calculate the area of a circle given a radius. The second will find the hypotenuse of a right angle given the two sides. Import the module or the functions from the module and use it to find the answers to the below questions"
   ]
  },
  {
   "cell_type": "markdown",
   "metadata": {},
   "source": [
    "What is the area of a circle with a radius of 7cm?"
   ]
  },
  {
   "cell_type": "code",
   "execution_count": 23,
   "metadata": {},
   "outputs": [
    {
     "name": "stdout",
     "output_type": "stream",
     "text": [
      "<module 'geometry' from 'C:\\\\Users\\\\LMokk\\\\Documents\\\\CodingTemple-Kekambas-96\\\\Week3\\\\Day 2\\\\Homework\\\\geometry.py'>\n",
      "The area of your circle is 12.566370614359172 cm^2\n"
     ]
    }
   ],
   "source": [
    "import geometry\n",
    "\n",
    "print(geometry)\n",
    "\n",
    "geometry.area_circle(2) #How can I decrease the number of decimal places"
   ]
  },
  {
   "cell_type": "markdown",
   "metadata": {},
   "source": [
    "What is the hypotenuse of a right angle with sides of 3in and 4in?"
   ]
  },
  {
   "cell_type": "code",
   "execution_count": 24,
   "metadata": {},
   "outputs": [
    {
     "name": "stdout",
     "output_type": "stream",
     "text": [
      "The hypotenuse of your triangle is 5.0 in\n"
     ]
    }
   ],
   "source": [
    "geometry.hypotenuse(3,4)"
   ]
  }
 ],
 "metadata": {
  "kernelspec": {
   "display_name": "Python 3",
   "language": "python",
   "name": "python3"
  },
  "language_info": {
   "codemirror_mode": {
    "name": "ipython",
    "version": 3
   },
   "file_extension": ".py",
   "mimetype": "text/x-python",
   "name": "python",
   "nbconvert_exporter": "python",
   "pygments_lexer": "ipython3",
   "version": "3.8.8"
  }
 },
 "nbformat": 4,
 "nbformat_minor": 4
}
